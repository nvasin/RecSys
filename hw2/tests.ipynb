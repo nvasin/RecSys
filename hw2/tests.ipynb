{
 "cells": [
  {
   "cell_type": "code",
   "execution_count": 1,
   "metadata": {},
   "outputs": [],
   "source": [
    "import pandas as pd\n",
    "import numpy as np\n",
    "from typing import Union"
   ]
  },
  {
   "cell_type": "code",
   "execution_count": 4,
   "metadata": {},
   "outputs": [
    {
     "data": {
      "text/html": [
       "<div>\n",
       "<style scoped>\n",
       "    .dataframe tbody tr th:only-of-type {\n",
       "        vertical-align: middle;\n",
       "    }\n",
       "\n",
       "    .dataframe tbody tr th {\n",
       "        vertical-align: top;\n",
       "    }\n",
       "\n",
       "    .dataframe thead th {\n",
       "        text-align: right;\n",
       "    }\n",
       "</style>\n",
       "<table border=\"1\" class=\"dataframe\">\n",
       "  <thead>\n",
       "    <tr style=\"text-align: right;\">\n",
       "      <th></th>\n",
       "      <th>user_id</th>\n",
       "      <th>item_id</th>\n",
       "      <th>rating</th>\n",
       "      <th>datetime</th>\n",
       "    </tr>\n",
       "  </thead>\n",
       "  <tbody>\n",
       "    <tr>\n",
       "      <th>0</th>\n",
       "      <td>0</td>\n",
       "      <td>2994</td>\n",
       "      <td>8</td>\n",
       "      <td>2000-11-30 23:49:23</td>\n",
       "    </tr>\n",
       "    <tr>\n",
       "      <th>1</th>\n",
       "      <td>0</td>\n",
       "      <td>3002</td>\n",
       "      <td>2</td>\n",
       "      <td>2000-11-30 23:52:33</td>\n",
       "    </tr>\n",
       "    <tr>\n",
       "      <th>2</th>\n",
       "      <td>1</td>\n",
       "      <td>2994</td>\n",
       "      <td>7</td>\n",
       "      <td>2000-11-30 23:57:00</td>\n",
       "    </tr>\n",
       "    <tr>\n",
       "      <th>3</th>\n",
       "      <td>2</td>\n",
       "      <td>1488</td>\n",
       "      <td>3</td>\n",
       "      <td>2000-12-01 10:15:45</td>\n",
       "    </tr>\n",
       "    <tr>\n",
       "      <th>4</th>\n",
       "      <td>3</td>\n",
       "      <td>3002</td>\n",
       "      <td>2</td>\n",
       "      <td>2000-12-02 14:22:10</td>\n",
       "    </tr>\n",
       "    <tr>\n",
       "      <th>5</th>\n",
       "      <td>4</td>\n",
       "      <td>3002</td>\n",
       "      <td>5</td>\n",
       "      <td>2000-12-03 18:30:55</td>\n",
       "    </tr>\n",
       "    <tr>\n",
       "      <th>6</th>\n",
       "      <td>0</td>\n",
       "      <td>1488</td>\n",
       "      <td>3</td>\n",
       "      <td>2000-12-04 18:30:55</td>\n",
       "    </tr>\n",
       "  </tbody>\n",
       "</table>\n",
       "</div>"
      ],
      "text/plain": [
       "   user_id  item_id  rating            datetime\n",
       "0        0     2994       8 2000-11-30 23:49:23\n",
       "1        0     3002       2 2000-11-30 23:52:33\n",
       "2        1     2994       7 2000-11-30 23:57:00\n",
       "3        2     1488       3 2000-12-01 10:15:45\n",
       "4        3     3002       2 2000-12-02 14:22:10\n",
       "5        4     3002       5 2000-12-03 18:30:55\n",
       "6        0     1488       3 2000-12-04 18:30:55"
      ]
     },
     "execution_count": 4,
     "metadata": {},
     "output_type": "execute_result"
    }
   ],
   "source": [
    "data = {\n",
    "    \"user_id\": [0, 0, 1, 2, 3, 4, 0 ],\n",
    "    \"item_id\": [2994, 3002, 2994, 1488, 3002, 3002, 1488],\n",
    "    \"rating\": [8, 2, 7, 3, 2, 5, 3],\n",
    "    \"datetime\": pd.to_datetime([\n",
    "        \"2000-11-30 23:49:23\",\n",
    "        \"2000-11-30 23:52:33\",\n",
    "        \"2000-11-30 23:57:00\",\n",
    "        \"2000-12-01 10:15:45\",\n",
    "        \"2000-12-02 14:22:10\",\n",
    "        \"2000-12-03 18:30:55\",\n",
    "        \"2000-12-04 18:30:55\" \n",
    "    ])\n",
    "}\n",
    "\n",
    "\n",
    "\n",
    "df = pd.DataFrame(data)\n",
    "df.head(10)"
   ]
  },
  {
   "cell_type": "code",
   "execution_count": 5,
   "metadata": {},
   "outputs": [
    {
     "data": {
      "text/html": [
       "<div>\n",
       "<style scoped>\n",
       "    .dataframe tbody tr th:only-of-type {\n",
       "        vertical-align: middle;\n",
       "    }\n",
       "\n",
       "    .dataframe tbody tr th {\n",
       "        vertical-align: top;\n",
       "    }\n",
       "\n",
       "    .dataframe thead th {\n",
       "        text-align: right;\n",
       "    }\n",
       "</style>\n",
       "<table border=\"1\" class=\"dataframe\">\n",
       "  <thead>\n",
       "    <tr style=\"text-align: right;\">\n",
       "      <th></th>\n",
       "      <th>user_id</th>\n",
       "      <th>item_id</th>\n",
       "      <th>rating</th>\n",
       "      <th>datetime</th>\n",
       "    </tr>\n",
       "  </thead>\n",
       "  <tbody>\n",
       "    <tr>\n",
       "      <th>0</th>\n",
       "      <td>0</td>\n",
       "      <td>0</td>\n",
       "      <td>8</td>\n",
       "      <td>2000-11-30 23:49:23</td>\n",
       "    </tr>\n",
       "    <tr>\n",
       "      <th>1</th>\n",
       "      <td>0</td>\n",
       "      <td>1</td>\n",
       "      <td>2</td>\n",
       "      <td>2000-11-30 23:52:33</td>\n",
       "    </tr>\n",
       "    <tr>\n",
       "      <th>2</th>\n",
       "      <td>1</td>\n",
       "      <td>0</td>\n",
       "      <td>7</td>\n",
       "      <td>2000-11-30 23:57:00</td>\n",
       "    </tr>\n",
       "    <tr>\n",
       "      <th>3</th>\n",
       "      <td>2</td>\n",
       "      <td>2</td>\n",
       "      <td>3</td>\n",
       "      <td>2000-12-01 10:15:45</td>\n",
       "    </tr>\n",
       "    <tr>\n",
       "      <th>4</th>\n",
       "      <td>3</td>\n",
       "      <td>1</td>\n",
       "      <td>2</td>\n",
       "      <td>2000-12-02 14:22:10</td>\n",
       "    </tr>\n",
       "    <tr>\n",
       "      <th>5</th>\n",
       "      <td>4</td>\n",
       "      <td>1</td>\n",
       "      <td>5</td>\n",
       "      <td>2000-12-03 18:30:55</td>\n",
       "    </tr>\n",
       "  </tbody>\n",
       "</table>\n",
       "</div>"
      ],
      "text/plain": [
       "   user_id  item_id  rating            datetime\n",
       "0        0        0       8 2000-11-30 23:49:23\n",
       "1        0        1       2 2000-11-30 23:52:33\n",
       "2        1        0       7 2000-11-30 23:57:00\n",
       "3        2        2       3 2000-12-01 10:15:45\n",
       "4        3        1       2 2000-12-02 14:22:10\n",
       "5        4        1       5 2000-12-03 18:30:55"
      ]
     },
     "execution_count": 5,
     "metadata": {},
     "output_type": "execute_result"
    }
   ],
   "source": [
    "df[\"item_id\"], _ = pd.factorize(df[\"item_id\"])\n",
    "df_train = df.copy()\n",
    "df_train.head(6)\n",
    "# делаем так как \n",
    "# Размер разреженной матрицы coo_array определяется диапазоном индексов, \n",
    "# встречающихся в координатах (user_id и item_id)."
   ]
  },
  {
   "cell_type": "code",
   "execution_count": 6,
   "metadata": {},
   "outputs": [
    {
     "data": {
      "text/html": [
       "<div>\n",
       "<style scoped>\n",
       "    .dataframe tbody tr th:only-of-type {\n",
       "        vertical-align: middle;\n",
       "    }\n",
       "\n",
       "    .dataframe tbody tr th {\n",
       "        vertical-align: top;\n",
       "    }\n",
       "\n",
       "    .dataframe thead th {\n",
       "        text-align: right;\n",
       "    }\n",
       "</style>\n",
       "<table border=\"1\" class=\"dataframe\">\n",
       "  <thead>\n",
       "    <tr style=\"text-align: right;\">\n",
       "      <th>item_id</th>\n",
       "      <th>0</th>\n",
       "      <th>1</th>\n",
       "      <th>2</th>\n",
       "    </tr>\n",
       "    <tr>\n",
       "      <th>user_id</th>\n",
       "      <th></th>\n",
       "      <th></th>\n",
       "      <th></th>\n",
       "    </tr>\n",
       "  </thead>\n",
       "  <tbody>\n",
       "    <tr>\n",
       "      <th>0</th>\n",
       "      <td>8.0</td>\n",
       "      <td>2.0</td>\n",
       "      <td>3.0</td>\n",
       "    </tr>\n",
       "    <tr>\n",
       "      <th>1</th>\n",
       "      <td>7.0</td>\n",
       "      <td>0.0</td>\n",
       "      <td>0.0</td>\n",
       "    </tr>\n",
       "    <tr>\n",
       "      <th>2</th>\n",
       "      <td>0.0</td>\n",
       "      <td>0.0</td>\n",
       "      <td>3.0</td>\n",
       "    </tr>\n",
       "    <tr>\n",
       "      <th>3</th>\n",
       "      <td>0.0</td>\n",
       "      <td>2.0</td>\n",
       "      <td>0.0</td>\n",
       "    </tr>\n",
       "    <tr>\n",
       "      <th>4</th>\n",
       "      <td>0.0</td>\n",
       "      <td>5.0</td>\n",
       "      <td>0.0</td>\n",
       "    </tr>\n",
       "  </tbody>\n",
       "</table>\n",
       "</div>"
      ],
      "text/plain": [
       "item_id    0    1    2\n",
       "user_id               \n",
       "0        8.0  2.0  3.0\n",
       "1        7.0  0.0  0.0\n",
       "2        0.0  0.0  3.0\n",
       "3        0.0  2.0  0.0\n",
       "4        0.0  5.0  0.0"
      ]
     },
     "execution_count": 6,
     "metadata": {},
     "output_type": "execute_result"
    }
   ],
   "source": [
    "df_matrix = df_train.pivot(index='user_id', columns='item_id', values='rating')\n",
    "df_matrix = df_matrix.fillna(0)\n",
    "df_matrix"
   ]
  },
  {
   "cell_type": "code",
   "execution_count": 7,
   "metadata": {},
   "outputs": [
    {
     "name": "stdout",
     "output_type": "stream",
     "text": [
      "[[8. 2. 3.]\n",
      " [7. 0. 0.]\n",
      " [0. 0. 3.]\n",
      " [0. 2. 0.]\n",
      " [0. 5. 0.]]\n",
      "\n",
      "[0 1 2 3 4]\n",
      "[0 1 2]\n"
     ]
    },
    {
     "data": {
      "text/plain": [
       "array([[8., 2., 3.],\n",
       "       [7., 0., 0.],\n",
       "       [0., 0., 3.],\n",
       "       [0., 2., 0.],\n",
       "       [0., 5., 0.]])"
      ]
     },
     "execution_count": 7,
     "metadata": {},
     "output_type": "execute_result"
    }
   ],
   "source": [
    "np_matrix = df_matrix.to_numpy()\n",
    "print(f\"{np_matrix}\")\n",
    "\n",
    "user_ids = df_matrix.index.to_numpy()\n",
    "print(f\"\\n{user_ids}\")\n",
    "item_ids = df_matrix.columns.to_numpy()\n",
    "print(f\"{item_ids}\")\n",
    "\n",
    "interactions = np_matrix\n",
    "interactions"
   ]
  },
  {
   "cell_type": "code",
   "execution_count": 8,
   "metadata": {},
   "outputs": [
    {
     "name": "stdout",
     "output_type": "stream",
     "text": [
      "<COOrdinate sparse array of dtype 'int64'\n",
      "\twith 7 stored elements and shape (5, 3)>\n",
      "  Coords\tValues\n",
      "  (0, 0)\t8\n",
      "  (0, 1)\t2\n",
      "  (1, 0)\t7\n",
      "  (2, 2)\t3\n",
      "  (3, 1)\t2\n",
      "  (4, 1)\t5\n",
      "  (0, 2)\t3\n"
     ]
    },
    {
     "data": {
      "text/plain": [
       "array([[8, 2, 3],\n",
       "       [7, 0, 0],\n",
       "       [0, 0, 3],\n",
       "       [0, 2, 0],\n",
       "       [0, 5, 0]])"
      ]
     },
     "execution_count": 8,
     "metadata": {},
     "output_type": "execute_result"
    }
   ],
   "source": [
    "from scipy.sparse import coo_array\n",
    "coo_interactions = coo_array((df_train[\"rating\"], (df_train[\"user_id\"], df_train[\"item_id\"])))\n",
    "print(coo_interactions)\n",
    "coo_interactions.toarray()"
   ]
  },
  {
   "cell_type": "code",
   "execution_count": 9,
   "metadata": {},
   "outputs": [
    {
     "data": {
      "text/plain": [
       "(3, 3)"
      ]
     },
     "execution_count": 9,
     "metadata": {},
     "output_type": "execute_result"
    }
   ],
   "source": [
    "min(interactions.shape), min(coo_interactions.shape)"
   ]
  },
  {
   "cell_type": "code",
   "execution_count": 10,
   "metadata": {},
   "outputs": [],
   "source": [
    "assert (interactions != 0).sum() == df_train.shape[0]\n",
    "#assert interactions[0, 2994] == 8\n",
    "#assert interactions[2369, 1203] == 5\n",
    "#assert interactions[1557, 459] == 3\n",
    "assert np.allclose(coo_interactions.toarray(), interactions)"
   ]
  },
  {
   "cell_type": "code",
   "execution_count": 11,
   "metadata": {},
   "outputs": [
    {
     "name": "stdout",
     "output_type": "stream",
     "text": [
      "U:\n",
      " [[-0.0903193  -0.78834916]\n",
      " [ 0.26640794 -0.60515765]\n",
      " [-0.03868151 -0.06281547]\n",
      " [-0.35610401 -0.03392494]\n",
      " [-0.89026002 -0.08481236]]\n",
      "\n",
      "S:\n",
      " [ 5.47855156 11.04319482]\n",
      "\n",
      "V:\n",
      " [[ 0.20850424 -0.97546709 -0.07063955]\n",
      " [-0.95469626 -0.18731989 -0.23122782]]\n"
     ]
    }
   ],
   "source": [
    "from scipy.sparse.linalg import svds\n",
    "\n",
    "U, S, V = svds(interactions, k=2)\n",
    "\n",
    "print(\"U:\\n\", U)\n",
    "print(\"\\nS:\\n\", S)\n",
    "print(\"\\nV:\\n\", V)"
   ]
  },
  {
   "cell_type": "code",
   "execution_count": 12,
   "metadata": {},
   "outputs": [
    {
     "data": {
      "text/plain": [
       "array([[ 8.20831199,  2.11346656,  2.04799854],\n",
       "       [ 6.6844328 , -0.17188796,  1.44216584],\n",
       "       [ 0.61807107,  0.33666039,  0.17536876],\n",
       "       [-0.04911085,  1.97324955,  0.22444026],\n",
       "       [-0.12277712,  4.93312389,  0.56110065]])"
      ]
     },
     "execution_count": 12,
     "metadata": {},
     "output_type": "execute_result"
    }
   ],
   "source": [
    "S_diag = np.diag(S)\n",
    "\n",
    "rec = U @ S_diag @ V\n",
    "rec"
   ]
  },
  {
   "cell_type": "code",
   "execution_count": null,
   "metadata": {},
   "outputs": [],
   "source": []
  },
  {
   "cell_type": "code",
   "execution_count": null,
   "metadata": {},
   "outputs": [],
   "source": [
    "from scipy.sparse.linalg import svds\n",
    "\n",
    "U, S, V = svds(coo_interactions, k=2)\n",
    "\n",
    "print(\"U:\\n\", U)\n",
    "print(\"\\nS:\\n\", S)\n",
    "print(\"\\nV:\\n\", V)"
   ]
  }
 ],
 "metadata": {
  "kernelspec": {
   "display_name": "main",
   "language": "python",
   "name": "python3"
  },
  "language_info": {
   "codemirror_mode": {
    "name": "ipython",
    "version": 3
   },
   "file_extension": ".py",
   "mimetype": "text/x-python",
   "name": "python",
   "nbconvert_exporter": "python",
   "pygments_lexer": "ipython3",
   "version": "3.13.0"
  }
 },
 "nbformat": 4,
 "nbformat_minor": 2
}
